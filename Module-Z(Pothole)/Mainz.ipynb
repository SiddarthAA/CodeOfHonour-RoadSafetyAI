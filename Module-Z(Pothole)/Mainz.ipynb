{
 "cells": [
  {
   "cell_type": "code",
   "execution_count": null,
   "metadata": {},
   "outputs": [],
   "source": [
    "import os\n",
    "import random\n",
    "import cv2\n",
    "import matplotlib.pyplot as plt\n",
    "import numpy as np\n",
    "from tensorflow.keras.models import load_model\n",
    "from tensorflow.keras.preprocessing.image import ImageDataGenerator\n",
    "from keras.preprocessing import image\n",
    "import matplotlib.pyplot as plt\n",
    "import warnings\n",
    "import time\n",
    "import csv\n",
    "import Map\n",
    "\n",
    "#Todo\n",
    "# 3rd Party Pov\n"
   ]
  },
  {
   "cell_type": "code",
   "execution_count": null,
   "metadata": {},
   "outputs": [],
   "source": [
    "warnings.filterwarnings(\"ignore\", message=\"Skipping variable loading for optimizer 'rmsprop'\")\n",
    "model = load_model('C:\\\\Users\\\\siddu\\\\Desktop\\\\Local\\\\Module-Z(Pothole)\\\\Models\\\\Ptz.keras')"
   ]
  },
  {
   "cell_type": "code",
   "execution_count": null,
   "metadata": {},
   "outputs": [],
   "source": [
    "def predictImg(imgpath):\n",
    "    predict_image = image.load_img(imgpath, target_size = (64,64))\n",
    "    predict_image = image.img_to_array(predict_image)\n",
    "    predict_image = np.expand_dims(predict_image, axis=0)\n",
    "    result = model.predict(predict_image)\n",
    "    x = result.max()\n",
    "\n",
    "    plt.imshow(cv2.imread(imgpath, cv2.IMREAD_GRAYSCALE), cmap='gray')\n",
    "    plt.axis('off')\n",
    "    plt.show()\n",
    "    \n",
    "    if x == 0:\n",
    "        return(\"Normal\")\n",
    "    else:\n",
    "        return(\"Pothole\")"
   ]
  },
  {
   "cell_type": "code",
   "execution_count": null,
   "metadata": {},
   "outputs": [],
   "source": [
    "folder_path = \"C:\\\\Users\\\\siddu\\\\Desktop\\\\Local\\\\Module-Z(Pothole)\\\\data\\\\potholes\"\n",
    "photo_files = os.listdir(folder_path)\n",
    "selected_photos = random.sample(photo_files, 7)\n",
    "\n",
    "fh = open(\"C:\\\\Users\\\\siddu\\\\Desktop\\\\Local\\\\Module-Z(Pothole)\\\\co-ords.csv\",\"r\")\n",
    "reader = csv.reader(fh)\n",
    "coordinates = list()\n",
    "\n",
    "for i in reader:\n",
    "    coordinates.append(i)\n",
    "\n",
    "count = 0 \n",
    "for photo in selected_photos:\n",
    "    image_path = os.path.join(folder_path, photo)\n",
    "    x = predictImg(image_path)\n",
    "    count += 1\n",
    "    cord = coordinates[count]\n",
    "    x,y = cord[0], cord[1]\n",
    "\n",
    "    \"\"\"print(f\"\\033[1;32;40mA pothole has been detected at coordinates ({x}, {y})!\\033[0m\")\n",
    "    print(\"\\033[1;34;40mMapping the pothole on the local map...\\033[0m\")\"\"\"\n",
    "\n",
    "    print(\"\\033[1;33;40m-------------------------------------------\\033[0m\")\n",
    "    print(\"\\033[1;33;40m|               ALERT: POTHOLE             |\\033[0m\")\n",
    "    print(\"\\033[1;33;40m-------------------------------------------\\033[0m\")\n",
    "    print(\"\\033[1;32;40mStatus: Detected\\033[0m\")\n",
    "    print(f\"\\033[1;32;40mCoordinates: ({x}, {y})\\033[0m\")\n",
    "    print(\"\\033[1;34;40mMapping the pothole on the local map...\\033[0m\")\n",
    "    time.sleep(2)  # Simulate mapping process\n",
    "    print(\"\\033[1;34;40mMap updated successfully!\\033[0m\")\n",
    "    print(\"\\033[1;33;40m-------------------------------------------\\033[0m\")\n",
    "\n",
    "Map.Map()"
   ]
  }
 ],
 "metadata": {
  "kernelspec": {
   "display_name": "Python 3",
   "language": "python",
   "name": "python3"
  },
  "language_info": {
   "codemirror_mode": {
    "name": "ipython",
    "version": 3
   },
   "file_extension": ".py",
   "mimetype": "text/x-python",
   "name": "python",
   "nbconvert_exporter": "python",
   "pygments_lexer": "ipython3",
   "version": "3.11.6"
  }
 },
 "nbformat": 4,
 "nbformat_minor": 2
}
